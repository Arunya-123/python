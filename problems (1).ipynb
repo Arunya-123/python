{
 "cells": [
  {
   "cell_type": "markdown",
   "id": "33775b93-7e56-4a35-af4f-8b3fbffc77a6",
   "metadata": {},
   "source": [
    "how to create a list(1D)"
   ]
  },
  {
   "cell_type": "code",
   "execution_count": 1,
   "id": "8785e6d4-8375-485d-8c19-c5bd6433c427",
   "metadata": {},
   "outputs": [
    {
     "data": {
      "text/plain": [
       "[]"
      ]
     },
     "execution_count": 1,
     "metadata": {},
     "output_type": "execute_result"
    }
   ],
   "source": [
    "lst=[]*4\n",
    "lst"
   ]
  },
  {
   "cell_type": "code",
   "execution_count": 193,
   "id": "f0f34d6c-cf84-4716-9b61-c7557d7ee3bd",
   "metadata": {},
   "outputs": [
    {
     "name": "stdout",
     "output_type": "stream",
     "text": [
      "afg\n",
      "aftyhd\n",
      "ahyh\n"
     ]
    }
   ],
   "source": [
    "name=[\"afg\",\"bjkl\",\"cuij\",\"aftyhd\",\"ahyh\",\"fggl\"]\n",
    "for i in name:\n",
    "    #print(i)\n",
    "   if i[0]==\"a\":\n",
    "        print(i)\n",
    "    "
   ]
  },
  {
   "cell_type": "code",
   "execution_count": 194,
   "id": "94a01093-cfbe-4cce-ade9-4a42b91b331d",
   "metadata": {},
   "outputs": [
    {
     "name": "stdout",
     "output_type": "stream",
     "text": [
      "afg\n",
      "bjkl\n",
      "cuij\n",
      "aftyhd\n",
      "ahyh\n",
      "fggl\n"
     ]
    }
   ],
   "source": [
    "name=[\"afg\",\"bjkl\",\"cuij\",\"aftyhd\",\"ahyh\",\"fggl\"]\n",
    "for i in name:\n",
    "    print(i)\n",
    "    "
   ]
  },
  {
   "cell_type": "code",
   "execution_count": 195,
   "id": "2098851d-e420-4f5c-bb34-e42449e09f3b",
   "metadata": {},
   "outputs": [
    {
     "name": "stdout",
     "output_type": "stream",
     "text": [
      "a 23\n",
      "b 12\n",
      "c 34\n",
      "d 32\n",
      "f 54\n"
     ]
    }
   ],
   "source": [
    "name=[\"a\",\"b\",\"c\",\"d\",\"f\"]\n",
    "age=[23, 12,34,32,54]\n",
    "for i in range(5):\n",
    "    print(name[i],age[i])"
   ]
  },
  {
   "cell_type": "code",
   "execution_count": 197,
   "id": "99c44319-6c55-4ff5-85f2-9f50c1c17e32",
   "metadata": {},
   "outputs": [
    {
     "name": "stdin",
     "output_type": "stream",
     "text": [
      "entr the name1 e\n",
      "entr the agees' age 4\n",
      "entr the name2 g\n",
      "entr the agegs' age 6\n",
      "entr the name3 k\n",
      "entr the ageks' age 6\n",
      "entr the name4 m\n",
      "entr the agems' age 9\n",
      "entr the name5 f\n",
      "entr the agefs' age 8\n"
     ]
    }
   ],
   "source": [
    "name=[\"\"]*5\n",
    "age=[0]*5\n",
    "for i in range(5):\n",
    "    name[i]=str(input(\"entr the name\"+str(i+1)))\n",
    "    age[i]=int(input(\"entr the age\"+name[i]+\"s' age\"))\n"
   ]
  },
  {
   "cell_type": "code",
   "execution_count": 9,
   "id": "df303c3e-8cef-4897-8f95-e5f72f7e9f3c",
   "metadata": {},
   "outputs": [
    {
     "name": "stdin",
     "output_type": "stream",
     "text": [
      "entr the name1 ghj\n",
      "entr the age:s' age 23\n",
      "entr the name2 fgh\n",
      "entr the age:s' age 45\n",
      "entr the name3 vbn\n",
      "entr the age:s' age 34\n",
      "entr the name4 tyu\n",
      "entr the age:s' age 23\n",
      "entr the name5 bnm\n",
      "entr the age:s' age 45\n"
     ]
    }
   ],
   "source": [
    "name=[\"\"]*5\n",
    "age=[0]*5\n",
    "for i in range(5):\n",
    "    name.append(str(input(\"entr the name\"+str(i+1))))\n",
    "    age.append(int(input(\"entr the age:\"+str(name[i])+\"s' age\")))"
   ]
  },
  {
   "cell_type": "code",
   "execution_count": 14,
   "id": "431fa7f7-efc8-44dc-b0ca-b95bdf2cec84",
   "metadata": {},
   "outputs": [
    {
     "data": {
      "text/plain": [
       "[]"
      ]
     },
     "execution_count": 14,
     "metadata": {},
     "output_type": "execute_result"
    }
   ],
   "source": [
    "age=[]\n",
    "age"
   ]
  },
  {
   "cell_type": "markdown",
   "id": "1ae32a15-9000-41bd-8e17-dbbc8b6064ba",
   "metadata": {},
   "source": [
    "how to create 2D list "
   ]
  },
  {
   "cell_type": "code",
   "execution_count": 22,
   "id": "8fb0105c-cdab-47e1-9cc0-67546133af4c",
   "metadata": {},
   "outputs": [
    {
     "data": {
      "text/plain": [
       "[[0], [0], [0], [0]]"
      ]
     },
     "execution_count": 22,
     "metadata": {},
     "output_type": "execute_result"
    }
   ],
   "source": [
    "lst2=[[0] for i in range(4)]\n",
    "lst2"
   ]
  },
  {
   "cell_type": "code",
   "execution_count": 23,
   "id": "1c10bcef-e7c7-40ba-978d-8298edc4cde6",
   "metadata": {},
   "outputs": [
    {
     "data": {
      "text/plain": [
       "[[0, 0, 0], [0, 0, 0], [0, 0, 0], [0, 0, 0]]"
      ]
     },
     "execution_count": 23,
     "metadata": {},
     "output_type": "execute_result"
    }
   ],
   "source": [
    "lst3=[[0]*3 for i in range(4)]\n",
    "lst3"
   ]
  },
  {
   "cell_type": "code",
   "execution_count": 25,
   "id": "43f3e996-2de6-4b4b-bebb-767b4e31d88e",
   "metadata": {},
   "outputs": [
    {
     "data": {
      "text/plain": [
       "[[0, 0, 0],\n",
       " [0, 0, 0],\n",
       " [0, 0, 0],\n",
       " [0, 0, 0],\n",
       " [0, 0, 0],\n",
       " [0, 0, 0],\n",
       " [0, 0, 0],\n",
       " [0, 0, 0]]"
      ]
     },
     "execution_count": 25,
     "metadata": {},
     "output_type": "execute_result"
    }
   ],
   "source": [
    "lst4=[[0]*3 for i in range(4)]*2\n",
    "lst4"
   ]
  },
  {
   "cell_type": "code",
   "execution_count": 170,
   "id": "9204dd10-084d-4723-a6e3-21240700414e",
   "metadata": {},
   "outputs": [
    {
     "name": "stdin",
     "output_type": "stream",
     "text": [
      "entr the nmbr 2\n",
      "entr the nmbr 3\n",
      "entr the nmbr 4\n",
      "entr the nmbr 5\n"
     ]
    },
    {
     "name": "stdout",
     "output_type": "stream",
     "text": [
      "[[2], [3], [4], [5]]\n"
     ]
    },
    {
     "data": {
      "text/plain": [
       "4"
      ]
     },
     "execution_count": 170,
     "metadata": {},
     "output_type": "execute_result"
    }
   ],
   "source": [
    "lst2=[[] for i in range(4)]\n",
    "for i in range(4):\n",
    "    lst2[i].append(int(input(\"entr the nmbr\")))\n",
    "print(lst2)\n",
    "len(lst2)"
   ]
  },
  {
   "cell_type": "code",
   "execution_count": 38,
   "id": "d181f645-7500-4b7b-a30e-26f7f63a5926",
   "metadata": {},
   "outputs": [
    {
     "data": {
      "text/plain": [
       "[[0, 0], [0, 0], [0, 0]]"
      ]
     },
     "execution_count": 38,
     "metadata": {},
     "output_type": "execute_result"
    }
   ],
   "source": [
    "#copies of list\n",
    "f=[[0]*2]*3\n",
    "f"
   ]
  },
  {
   "cell_type": "markdown",
   "id": "70d8aa94-dae6-48d3-acb0-87ab70f999ad",
   "metadata": {},
   "source": [
    "adding user input  to a 2d list"
   ]
  },
  {
   "cell_type": "code",
   "execution_count": 40,
   "id": "79496453-09e4-4073-85b3-2f8bfa9fca18",
   "metadata": {},
   "outputs": [
    {
     "name": "stdin",
     "output_type": "stream",
     "text": [
      "entr the persn a\n",
      "entr the prsn b\n",
      "entr the persn c\n",
      "entr the prsn d\n",
      "entr the persn e\n",
      "entr the prsn f\n"
     ]
    },
    {
     "name": "stdout",
     "output_type": "stream",
     "text": [
      "0 a\n",
      "0 c\n",
      "0 e\n",
      "[[0, 'a', 'b'], [0, 'c', 'd'], [0, 'e', 'f'], [0, 0, 0]]\n"
     ]
    }
   ],
   "source": [
    "lst3=[[0]*3 for i in range(4)]\n",
    "for i in range(3):\n",
    "    lst3[i][1]=str(input(\"entr the persn\"))\n",
    "    lst3[i][2]=str(input(\"entr the prsn\"))\n",
    "for j in range(3):\n",
    "    print(lst3[j][0],lst3[j][1])\n",
    "print(lst3)"
   ]
  },
  {
   "cell_type": "code",
   "execution_count": 63,
   "id": "7a961266-fb08-4f10-88e8-fa96c8ed8043",
   "metadata": {},
   "outputs": [
    {
     "name": "stdin",
     "output_type": "stream",
     "text": [
      "entr the prsn 1\n",
      "entr the prsn 2\n",
      "entr the prsn 3\n",
      "entr the prsn 4\n",
      "entr the prsn 5\n",
      "entr the prsn 6\n"
     ]
    },
    {
     "name": "stdout",
     "output_type": "stream",
     "text": [
      "[[0, 1, 2, 0, 0], [0, 3, 4, 0, 0], [0, 5, 6, 0, 0], [0, 0, 0]]\n"
     ]
    }
   ],
   "source": [
    "lst3=[[0]*3 for i in range(4)]\n",
    "for i in range(3):\n",
    "    lst3[i].insert(1,int(input(\"entr the prsn\")))\n",
    "    lst3[i].insert(2,int(input(\"entr the prsn\")))\n",
    "#for j in range(3):\n",
    " #   print(lst3[j][0],lst3[j][1])\n",
    "print(lst3)"
   ]
  },
  {
   "cell_type": "code",
   "execution_count": null,
   "id": "02c4e4f7-8fe0-4f6c-8f0b-aa7365953577",
   "metadata": {},
   "outputs": [],
   "source": [
    "list.insert(index, obj)"
   ]
  },
  {
   "cell_type": "code",
   "execution_count": 57,
   "id": "c1e8e0a8-2892-47a6-b22f-08119236bc77",
   "metadata": {},
   "outputs": [
    {
     "name": "stdin",
     "output_type": "stream",
     "text": [
      " 1\n",
      " 2\n"
     ]
    },
    {
     "data": {
      "text/plain": [
       "[0, 0, 0, 0, 0]"
      ]
     },
     "execution_count": 57,
     "metadata": {},
     "output_type": "execute_result"
    }
   ],
   "source": [
    "lst3=[0]*5\n",
    "lst3.append(int(input()))\n",
    "lst3.insert(0,(int(input())))\n",
    "lst3.pop()\n",
    "lst3.remove(2)\n",
    "lst3"
   ]
  },
  {
   "cell_type": "code",
   "execution_count": 47,
   "id": "326d8f21-c26f-4740-b026-1240ea4a3487",
   "metadata": {},
   "outputs": [
    {
     "data": {
      "text/plain": [
       "4"
      ]
     },
     "execution_count": 47,
     "metadata": {},
     "output_type": "execute_result"
    }
   ],
   "source": [
    "lst3[3]"
   ]
  },
  {
   "cell_type": "raw",
   "id": "59ea77d8-27a2-46d0-84d3-814e69dd576d",
   "metadata": {},
   "source": [
    "How to create a tuple (), dictonary{}, set {}"
   ]
  },
  {
   "cell_type": "code",
   "execution_count": 34,
   "id": "963919ef-ff35-4594-942d-57920fa278a2",
   "metadata": {},
   "outputs": [
    {
     "name": "stdout",
     "output_type": "stream",
     "text": [
      "('b', 655, 'ammu', True, 2.567)\n",
      "ammu\n",
      "True\n",
      "(655, 'ammu')\n"
     ]
    },
    {
     "data": {
      "text/plain": [
       "list"
      ]
     },
     "execution_count": 34,
     "metadata": {},
     "output_type": "execute_result"
    }
   ],
   "source": [
    "t_uple= (\"b\",655,\"ammu\", True, 2.567)\n",
    "print(t_uple)\n",
    "#t_uple[2]= \"achu\"\n",
    "print(t_uple[2])\n",
    "print(t_uple[-2])\n",
    "print(t_uple[-4:-2]) #slicing method\n",
    "\n",
    "t_uple_lst= list((\"b\",655,\"ammu\", True, 2.567))#converting tuple into list\n",
    "#type(t_uple)\n",
    "type(t_uple_lst)"
   ]
  },
  {
   "cell_type": "code",
   "execution_count": 35,
   "id": "28ad1972-90f8-4370-91e0-c1fde24bdf26",
   "metadata": {},
   "outputs": [
    {
     "name": "stdout",
     "output_type": "stream",
     "text": [
      "('b', 655, 'ammu', True, 2.567, 'b', False, 'chinju', 34, ('hj', 8.9))\n"
     ]
    }
   ],
   "source": [
    "t_uple1= (\"b\",False, \"chinju\", 34,(\"hj\",8.90))\n",
    "print(t_uple + t_uple1) #concainate two tuple, "
   ]
  },
  {
   "cell_type": "code",
   "execution_count": 66,
   "id": "6b9b5547-1f5d-4f96-9d3d-0f729624a4d5",
   "metadata": {},
   "outputs": [
    {
     "name": "stdout",
     "output_type": "stream",
     "text": [
      "{'name': 'manju', 'value': 23, 'bool': True, 'lst': (1, 'r')}\n",
      "manju\n",
      "<class 'tuple'>\n",
      "dict_keys(['name', 'value', 'bool', 'lst'])\n",
      "dict_values(['manju', 23, True, (1, 'r')])\n",
      "{'name': 'manju', 'bool': True, 'lst': (1, 'r')}\n",
      "<class 'dict'>\n"
     ]
    }
   ],
   "source": [
    "dic_t={\"name\":\"manju\", \"value\": 23, \"bool\": True, \"lst\":(1,\"r\")}\n",
    "print(dic_t)\n",
    "\n",
    "print(dic_t[\"name\"])\n",
    "print(type(dic_t[\"lst\"]))\n",
    "\n",
    "print(dic_t.keys())\n",
    "print(dic_t.values())\n",
    "dic_t.pop(\"value\")\n",
    "\n",
    "print(dic_t)\n",
    "print(type(dic_t))"
   ]
  },
  {
   "cell_type": "code",
   "execution_count": 88,
   "id": "4a7756d5-16c3-47f1-ad22-b8875871e834",
   "metadata": {},
   "outputs": [
    {
     "name": "stdout",
     "output_type": "stream",
     "text": [
      "{True, 'm', 8, 'j', 'a', 90, 'y'}\n",
      "{True, 7.9, 'm', 8, 'j', 'a', 90, 'p', 'y', '56'}\n",
      "{'a'}\n",
      "False\n",
      "{True, 'm', 8, 'j', 90, 'y'}\n",
      "False\n",
      "True\n"
     ]
    }
   ],
   "source": [
    "se_t=set([\"a\",\"m\",\"y\",8,True,90,\"j\",\"a\"]) #to create a set use set command in the biginig\n",
    "print(se_t)\n",
    "se_t1= set([\"56\",7.90,\"p\",\"a\"])\n",
    "\n",
    "print(se_t | se_t1) #OR for UNION \n",
    "print(se_t & se_t1) #AND FOR intersection\n",
    "print(se_t<se_t1) #subset\n",
    "print(se_t -se_t1) #difference\n",
    "print(7.90 in se_t)\n",
    "print(7.90 in se_t1)"
   ]
  },
  {
   "cell_type": "code",
   "execution_count": 94,
   "id": "69127779-5532-4b67-bb9b-a771c5d85270",
   "metadata": {},
   "outputs": [
    {
     "data": {
      "text/plain": [
       "{'56', 7.9, 'a'}"
      ]
     },
     "execution_count": 94,
     "metadata": {},
     "output_type": "execute_result"
    }
   ],
   "source": [
    "se_t1= set([\"56\",7.90,\"p\",\"a\"])\n",
    "s_et= se_t1.copy()\n",
    "s_et.issuperset(se_t1) # to check whether s_et is superset\n",
    "s_et.remove(\"p\")\n",
    "s_et & se_t1"
   ]
  },
  {
   "cell_type": "raw",
   "id": "eeec0cbe-bf9a-4012-b3f8-19681040b6d3",
   "metadata": {},
   "source": [
    "buil-in Functions in python"
   ]
  },
  {
   "cell_type": "code",
   "execution_count": 109,
   "id": "1004d5e7-75e3-48c3-b829-98e0f7659a85",
   "metadata": {},
   "outputs": [
    {
     "data": {
      "text/plain": [
       "'ahellobhellod'"
      ]
     },
     "execution_count": 109,
     "metadata": {},
     "output_type": "execute_result"
    }
   ],
   "source": [
    " #string functions:\n",
    "a=\"hello\"\n",
    "a=a.join(\"abc\") #it \n",
    "len(a)\n",
    "a.lower()\n",
    "a.upper()\n",
    "a.replace(\"c\",\"d\")"
   ]
  },
  {
   "cell_type": "code",
   "execution_count": 139,
   "id": "62f5e8e6-b606-4712-bac9-370fb110a387",
   "metadata": {},
   "outputs": [
    {
     "data": {
      "text/plain": [
       "False"
      ]
     },
     "execution_count": 139,
     "metadata": {},
     "output_type": "execute_result"
    }
   ],
   "source": [
    "v=\"ertU\"\n",
    "v.swapcase()\n",
    "a=\"hello\"\n",
    "\n",
    "a.zfill(10)\n",
    "max(a)\n",
    "min(a)\n",
    "a.isdigit()\n",
    "a.islower()\n",
    "a.isupper()\n",
    "a.title()\n",
    "a.istitle()\n",
    "\n",
    "i= \" \"\n",
    "print(i.isspace())\n",
    "i.isalpha()"
   ]
  },
  {
   "cell_type": "code",
   "execution_count": 150,
   "id": "02712c20-e63c-428f-972a-b9c0e445454f",
   "metadata": {},
   "outputs": [
    {
     "data": {
      "text/plain": [
       "[' demons', 'ra', 'e ', 'he spli', 'e func', 'ion']"
      ]
     },
     "execution_count": 150,
     "metadata": {},
     "output_type": "execute_result"
    }
   ],
   "source": [
    "a=\"hello world\"\n",
    "#a.capitalize()\n",
    "a.center(12,\"@\")\n",
    "a.center(20,\"@\")"
   ]
  },
  {
   "cell_type": "code",
   "execution_count": 160,
   "id": "9dfa834f-cc6f-4874-be08-1ab617747a82",
   "metadata": {},
   "outputs": [
    {
     "data": {
      "text/plain": [
       "2"
      ]
     },
     "execution_count": 160,
     "metadata": {},
     "output_type": "execute_result"
    }
   ],
   "source": [
    "sen=\"demonstrate the splite function\"\n",
    "sen.split(\"t\") # these are also applicable for list, tuple etc.\n",
    "sen.index(\"m\")"
   ]
  },
  {
   "cell_type": "raw",
   "id": "4af5fac8-2163-46aa-8b25-9f20a565bf0f",
   "metadata": {},
   "source": [
    "userdefined functions in python"
   ]
  },
  {
   "cell_type": "code",
   "execution_count": 1,
   "id": "15fef96e-e941-468d-9f08-75506997c738",
   "metadata": {},
   "outputs": [
    {
     "name": "stdin",
     "output_type": "stream",
     "text": [
      "  Checking your network cables, modem, and router\n",
      " And the web just isn't the same without you. Let's get you back online!\n"
     ]
    },
    {
     "name": "stdout",
     "output_type": "stream",
     "text": [
      "s= 14 p= 20\n",
      "p has larger vwls\n"
     ]
    }
   ],
   "source": [
    "def vowels(sentence):\n",
    "    v1=sentence.count(\"a\")\n",
    "    v2=sentence.count(\"e\")\n",
    "    v3=sentence.count(\"i\")\n",
    "    v4=sentence.count(\"o\")\n",
    "    v5=sentence.count(\"u\")\n",
    "    sm=v1+v2+v3+v4+v5\n",
    "    return sm\n",
    "\n",
    "\n",
    "s=vowels(input())\n",
    "p=vowels(input())\n",
    "print(\"s=\",s,\"p=\",p)\n",
    "\n",
    "if s>p:\n",
    "     print(\"s has larger vwls\")\n",
    "else:\n",
    "     print(\"p has larger vwls\")"
   ]
  },
  {
   "cell_type": "code",
   "execution_count": 2,
   "id": "e8e4ce4c-e75c-427a-96d8-d184a9ff5433",
   "metadata": {},
   "outputs": [
    {
     "name": "stdout",
     "output_type": "stream",
     "text": [
      "my name is fgy iam 56 yrs old\n",
      "my name is 56 iam fgy yrs old\n"
     ]
    }
   ],
   "source": [
    "#positional arguments\n",
    "def add(name, age):\n",
    "    print(\"my name is\", name, \"iam\", age,\"yrs old\")\n",
    "    \n",
    "u=add(\"fgy\",56)\n",
    "i=add(56,\"fgy\")"
   ]
  },
  {
   "cell_type": "code",
   "execution_count": 3,
   "id": "2e8e9e74-89f9-4b88-9975-cb0bc32fe844",
   "metadata": {},
   "outputs": [
    {
     "name": "stdout",
     "output_type": "stream",
     "text": [
      "my name is jenny iam 56 yrs old\n"
     ]
    }
   ],
   "source": [
    "#keyword argument\n",
    "def add(name,age):\n",
    "     print(\"my name is\", name, \"iam\", age,\"yrs old\")    \n",
    "l=add(\"jenny\", age=56)\n",
    "l"
   ]
  },
  {
   "cell_type": "code",
   "execution_count": 4,
   "id": "af277e6a-f2d1-448a-b78f-f4009a2ecdf3",
   "metadata": {},
   "outputs": [
    {
     "name": "stdout",
     "output_type": "stream",
     "text": [
      "my name is jenny iam 56 yrs old\n"
     ]
    }
   ],
   "source": [
    "#default argument\n",
    "def add(name,age=56):\n",
    "     print(\"my name is\", name, \"iam\", age,\"yrs old\")   \n",
    "j=add(\"jenny\")\n",
    "j"
   ]
  },
  {
   "cell_type": "code",
   "execution_count": 5,
   "id": "19f33014-7177-44f2-a35f-a03f62600d38",
   "metadata": {},
   "outputs": [
    {
     "name": "stdout",
     "output_type": "stream",
     "text": [
      "my name is jenny iam 56 yrs old\n"
     ]
    }
   ],
   "source": [
    "#keyword argument\n",
    "def add(name,age):\n",
    "     print(\"my name is\", name, \"iam\", age,\"yrs old\")    \n",
    "l=add(\"jenny\", age=56)\n",
    "l"
   ]
  },
  {
   "cell_type": "raw",
   "id": "8d8907cd-e537-40f9-b4a2-994d38f0f0a3",
   "metadata": {},
   "source": [
    "*arg and **kwarg"
   ]
  },
  {
   "cell_type": "code",
   "execution_count": 6,
   "id": "8c86079c-43c2-432f-912e-6a36af6bae37",
   "metadata": {},
   "outputs": [
    {
     "name": "stdout",
     "output_type": "stream",
     "text": [
      "my name is ('jenny', ' priya') iam 56 yrs old\n"
     ]
    }
   ],
   "source": [
    "def add(*name,age):\n",
    "     print(\"my name is\", name, \"iam\", age,\"yrs old\")  \n",
    "    \n",
    "l=add(\"jenny\",\" priya\", age=56)\n"
   ]
  },
  {
   "cell_type": "code",
   "execution_count": 7,
   "id": "d0a92673-a60d-48af-962f-9a13d3ee8d9f",
   "metadata": {},
   "outputs": [
    {
     "name": "stdout",
     "output_type": "stream",
     "text": [
      "my name is ('jenny', ' priya') iam {'age': (56, 56, 34)} yrs old\n"
     ]
    }
   ],
   "source": [
    "def add(*name,**age):\n",
    "     print(\"my name is\", name, \"iam\", age,\"yrs old\")  \n",
    "    \n",
    "l=add(\"jenny\",\" priya\", age=(56,56,34))"
   ]
  },
  {
   "cell_type": "raw",
   "id": "c6926546-25cb-495b-9f10-3177a9e34cb1",
   "metadata": {},
   "source": [
    "Recursin in functions"
   ]
  },
  {
   "cell_type": "raw",
   "id": "871f35b9-ebbe-4a0d-a2ef-03188fe5b74c",
   "metadata": {},
   "source": [
    "Using Recursion in factorial \n",
    "n! is defined as n*(n-1)!, so to find out (n-1)! needs (n-2)! so on....here we use a function which call itself again and again to find out these each factorials. here where we use recursion."
   ]
  },
  {
   "cell_type": "code",
   "execution_count": 216,
   "id": "586bf61f-ed97-4536-9dbf-c1d6b5384b51",
   "metadata": {},
   "outputs": [
    {
     "name": "stdin",
     "output_type": "stream",
     "text": [
      "entr the nmbr to fnd fctorial 5\n"
     ]
    },
    {
     "name": "stdout",
     "output_type": "stream",
     "text": [
      "fctrial of 5 is 120\n"
     ]
    }
   ],
   "source": [
    "def fact(n):\n",
    "    if n==0:\n",
    "        return 1\n",
    "    return n*fact(n-1)\n",
    "\n",
    "number=int(input(\"entr the nmbr to fnd fctorial\"))\n",
    "print('fctrial of',number,'is',fact(number))"
   ]
  },
  {
   "cell_type": "code",
   "execution_count": 210,
   "id": "6b74efa9-9f0d-4fc6-8843-c5b91cf4aacc",
   "metadata": {},
   "outputs": [
    {
     "name": "stdin",
     "output_type": "stream",
     "text": [
      "entr the nmbr to fnd fctorial 4\n"
     ]
    },
    {
     "name": "stdout",
     "output_type": "stream",
     "text": [
      "fctrial of 4 is 24\n"
     ]
    }
   ],
   "source": [
    "n=int(input(\"entr the nmbr to fnd fctorial\"))\n",
    "r=1\n",
    "for i in range(1,n+1):\n",
    "    r=r*i\n",
    "    i+=1\n",
    "print(\"fctrial of\",n,\"is\",r)"
   ]
  },
  {
   "cell_type": "raw",
   "id": "3268aa40-6cf3-4f3e-afad-d08ab1a04ac8",
   "metadata": {},
   "source": [
    "scope in python(global and local variables)"
   ]
  },
  {
   "cell_type": "code",
   "execution_count": 176,
   "id": "a4bb5fee-a564-4a55-bb47-73730d22148c",
   "metadata": {},
   "outputs": [
    {
     "name": "stdout",
     "output_type": "stream",
     "text": [
      "print local 15\n",
      "None\n",
      "print global 10\n"
     ]
    }
   ],
   "source": [
    "i=10\n",
    "def vrb(values):\n",
    "    i=15\n",
    "    print(\"print local\", i)\n",
    "\n",
    "print(vrb(i))\n",
    "print(\"print global\", i)"
   ]
  },
  {
   "cell_type": "code",
   "execution_count": 177,
   "id": "d4ea0a13-26fa-47b9-b5f7-d4752f99cb89",
   "metadata": {},
   "outputs": [
    {
     "name": "stdout",
     "output_type": "stream",
     "text": [
      "print local 10\n",
      "None\n",
      "print global 10\n"
     ]
    }
   ],
   "source": [
    "#assigning global variable as local{using global keyword}\n",
    "i=10\n",
    "def vrb(values):\n",
    "    global i\n",
    "    #i=15\n",
    "    print(\"print local\", i)\n",
    "\n",
    "print(vrb(i))\n",
    "print(\"print global\", i)"
   ]
  },
  {
   "cell_type": "code",
   "execution_count": 178,
   "id": "fd3d7b8d-68b9-467e-badd-bd4efbf63165",
   "metadata": {},
   "outputs": [
    {
     "name": "stdout",
     "output_type": "stream",
     "text": [
      "print local 30\n",
      "None\n",
      "print global 30\n"
     ]
    }
   ],
   "source": [
    "i=30\n",
    "def vrb(values):\n",
    "    x=globals()[\"i\"]\n",
    "    print(\"print local\", i)\n",
    "\n",
    "print(vrb(i))\n",
    "print(\"print global\", i)"
   ]
  },
  {
   "cell_type": "code",
   "execution_count": 179,
   "id": "12687844-b17c-4efc-a62e-675a7711bbf7",
   "metadata": {},
   "outputs": [],
   "source": [
    "i=30\n",
    "y=3\n",
    "u=4\n",
    "def vrbl(values):\n",
    "    x=globals()\n",
    "    print(\"print local\",x)\n",
    "\n",
    "\n",
    "#print(\"print global\", )"
   ]
  },
  {
   "cell_type": "raw",
   "id": "8c63188c-8ab5-4f8a-b4b6-a3c4607d6937",
   "metadata": {},
   "source": [
    "Anonymous functions in python (lambda functions)"
   ]
  },
  {
   "cell_type": "code",
   "execution_count": 180,
   "id": "1fd6ca60-e19d-43a8-8ffb-ce129f7a2bc7",
   "metadata": {},
   "outputs": [
    {
     "name": "stdout",
     "output_type": "stream",
     "text": [
      "5\n"
     ]
    }
   ],
   "source": [
    "#lamda function\n",
    "x= lambda a,b:a+b\n",
    "print(x(2,3))"
   ]
  },
  {
   "cell_type": "code",
   "execution_count": 181,
   "id": "4c572f25-f164-47d7-a409-32ebe80b2a3d",
   "metadata": {},
   "outputs": [
    {
     "name": "stdout",
     "output_type": "stream",
     "text": [
      "20\n"
     ]
    }
   ],
   "source": [
    "x= lambda a,b,c:(a+b)*c\n",
    "print(x(2,3,4))"
   ]
  },
  {
   "cell_type": "code",
   "execution_count": 182,
   "id": "18f44436-5260-46cf-b774-03eeb9d4bda1",
   "metadata": {},
   "outputs": [
    {
     "name": "stdout",
     "output_type": "stream",
     "text": [
      "[2, 4, 14, 12]\n"
     ]
    }
   ],
   "source": [
    "#filter() function \n",
    "def fil(n):\n",
    "    return n%2 ==0\n",
    "\n",
    "lst=[1,2,3,4,14,12]\n",
    "e=list(filter(fil,lst))\n",
    "print(e)"
   ]
  },
  {
   "cell_type": "code",
   "execution_count": 183,
   "id": "4122121d-0747-4fbd-9c69-423cf92d02cf",
   "metadata": {},
   "outputs": [
    {
     "name": "stdout",
     "output_type": "stream",
     "text": [
      "[2, 4, 14, 12]\n"
     ]
    }
   ],
   "source": [
    "#filter() function using lambda function\n",
    "lst=[1,2,3,4,14,12]\n",
    "e=list(filter(lambda n: n%2==0,lst))\n",
    "print(e)"
   ]
  },
  {
   "cell_type": "code",
   "execution_count": 184,
   "id": "18517001-fea7-4285-84d6-489facdca046",
   "metadata": {},
   "outputs": [
    {
     "name": "stdout",
     "output_type": "stream",
     "text": [
      "[2, 4, 6, 8, 28, 24]\n"
     ]
    }
   ],
   "source": [
    "#map() function\n",
    "def mp(n):\n",
    "    return n*2\n",
    "\n",
    "y=list(map(mp,lst))\n",
    "print(y)"
   ]
  },
  {
   "cell_type": "code",
   "execution_count": 185,
   "id": "90c81285-4a92-462b-86ce-7c68a737aec0",
   "metadata": {},
   "outputs": [
    {
     "name": "stdout",
     "output_type": "stream",
     "text": [
      "[False, True, False, True, True, True]\n"
     ]
    }
   ],
   "source": [
    "#map() function using lambda function\n",
    "lst=[1,2,3,4,14,12]\n",
    "y=list(map(lambda n:n%2==0,lst))\n",
    "print(y)"
   ]
  },
  {
   "cell_type": "code",
   "execution_count": 186,
   "id": "ebf51c17-1417-4e8d-abb0-4e051cb47817",
   "metadata": {},
   "outputs": [
    {
     "name": "stdout",
     "output_type": "stream",
     "text": [
      "36\n"
     ]
    }
   ],
   "source": [
    "#reduce() function using lambda function\n",
    "from functools import reduce\n",
    "lst=[1,2,3,4,14,12]\n",
    "g=reduce( lambda a,b:a+b,lst)\n",
    "print(g)"
   ]
  },
  {
   "cell_type": "raw",
   "id": "c9f3090e-94bc-4f22-9422-106cccd514b8",
   "metadata": {},
   "source": [
    "Bitwise operators\n",
    "\n",
    " TILD operators(~)\n",
    " {reversing the bits\n",
    "  0-1, 1-0}\n",
    " AND operators(&)\n",
    " {0,0=0\n",
    "   0,1=0\n",
    "   1,0=0\n",
    "   1,1=1}\n",
    " OR operators(|)\n",
    "  {0,0=0\n",
    "   0,1=1\n",
    "   1,0=1\n",
    "   1,1=1}\n",
    " XOR operators(^) \n",
    "  {0,0=0\n",
    "   0,1=1 \n",
    "   1,0=1\n",
    "   1,1=0}"
   ]
  },
  {
   "cell_type": "code",
   "execution_count": 187,
   "id": "47b0122b-365d-4838-a983-4e039e5721f7",
   "metadata": {},
   "outputs": [
    {
     "name": "stdout",
     "output_type": "stream",
     "text": [
      "12\n",
      "13\n",
      "1\n",
      "-13\n"
     ]
    }
   ],
   "source": [
    "print(12 & 12) # 12= 1100   13=1101 after AND oparator bit value become 1100=12\n",
    "print(12 | 13) #  12= 1100  13=1101 after OR oparator bit value become 1101=13\n",
    "print(12 ^ 13) # after XOR oparator bit value become 0001=1\n",
    "print(~12) #  after TILD oparator bit value become \n"
   ]
  },
  {
   "cell_type": "code",
   "execution_count": 188,
   "id": "ebe5be2e-d7d0-40a7-804c-7632819532e6",
   "metadata": {},
   "outputs": [
    {
     "name": "stdout",
     "output_type": "stream",
     "text": [
      "a's id before swaping: 140713750575608\n",
      "print a abd b before swaping: 3 5\n",
      "print a and b after swaping: 5 3\n",
      "a's id after swaping: 140713750575672\n"
     ]
    }
   ],
   "source": [
    "#swaping function: it allows the values of two variables to be exchange with each other.\n",
    "a=3\n",
    "b=5\n",
    "id_a=id(a)# id function is used to identify in which addres your value is stored in the memmory. \n",
    "print(\"a's id before swaping:\",id_a)\n",
    "print(\"print a abd b before swaping:\",a,b)\n",
    "#after swaping\n",
    "temp=a\n",
    "a=b\n",
    "b=temp\n",
    "\n",
    "print(\"print a and b after swaping:\",a,b)\n",
    "id_a1=id(a)\n",
    "print(\"a's id after swaping:\",id_a1)#afterswaping function 'a' value changed (ie, id changed)\n"
   ]
  },
  {
   "cell_type": "raw",
   "id": "d9b6d1c9-dd01-45d1-8a8d-ad481bf2c687",
   "metadata": {},
   "source": [
    "Random() functions: to generate random numbers. Random modules are used to create random number generation.\n",
    "applications:"
   ]
  },
  {
   "cell_type": "code",
   "execution_count": 189,
   "id": "701cac03-1dfc-4216-9b3a-428cb492ad30",
   "metadata": {},
   "outputs": [
    {
     "name": "stdout",
     "output_type": "stream",
     "text": [
      "0.653861421183728\n",
      "[0.9205029798307857, 0.23717854082847334, 0.18689691376315265, 0.641002271556665, 0.03268966868075984]\n"
     ]
    }
   ],
   "source": [
    "import random as rn #importing the module\n",
    "random_number=rn.random() #generating random numbers\n",
    "print(random_number)\n",
    "\n",
    "lst=[]\n",
    "for i in range(5):\n",
    "    lst.append(rn.random()) #adding random numbers into the list\n",
    "print(lst)"
   ]
  },
  {
   "cell_type": "code",
   "execution_count": 190,
   "id": "3cf386bb-13c0-40df-9d99-8a73143fe41e",
   "metadata": {},
   "outputs": [
    {
     "name": "stdout",
     "output_type": "stream",
     "text": [
      "without step 0\n",
      "with step 8\n"
     ]
    }
   ],
   "source": [
    "random_number=rn.randrange(10) #generating random numbers in a range\n",
    "print(\"without step\",random_number)\n",
    "\n",
    "random_number=rn.randrange(0,10,2) #generating random numbers in a range, start and stop parameters are optional\n",
    "print(\"with step\",random_number)"
   ]
  },
  {
   "cell_type": "raw",
   "id": "6129a826-662d-4828-aed3-c5b315edb536",
   "metadata": {},
   "source": [
    "randint() function\n",
    "syntax:randint(start,end)\n",
    "parameters: (start, end):must be int value\n",
    "return: a random indeger in range[start, end] including the end value."
   ]
  },
  {
   "cell_type": "code",
   "execution_count": 191,
   "id": "2075feb9-9b29-4d9c-b6bc-9942cc65253d",
   "metadata": {},
   "outputs": [
    {
     "name": "stdout",
     "output_type": "stream",
     "text": [
      "1\n"
     ]
    }
   ],
   "source": [
    "random_number=rn.randint(0,10)\n",
    "print(random_number)"
   ]
  },
  {
   "cell_type": "raw",
   "id": "711a2b97-3705-4af3-a63c-682507a58c32",
   "metadata": {},
   "source": [
    "choice() function: it returns multiple random elements from the list with replacement.\n",
    "syntax:\n",
    "random.choices(sequence,wrights=None,cum_weights=None,k=1)\n",
    "parameter:\n",
    "sequence: mandatory, can be a list, tuple, string etc.\n",
    "weights:"
   ]
  },
  {
   "cell_type": "code",
   "execution_count": null,
   "id": "5fd8b234-563a-4168-9e0d-97795aceda8a",
   "metadata": {},
   "outputs": [],
   "source": []
  },
  {
   "cell_type": "code",
   "execution_count": null,
   "id": "172e5dde-0140-4d94-afe0-95af874941c5",
   "metadata": {},
   "outputs": [],
   "source": []
  },
  {
   "cell_type": "code",
   "execution_count": null,
   "id": "e9c45af6-9a6e-4d88-b1bf-7708a4119fa0",
   "metadata": {},
   "outputs": [],
   "source": []
  },
  {
   "cell_type": "code",
   "execution_count": null,
   "id": "93c657ec-4307-4e30-9e5c-8a94f4d5a46c",
   "metadata": {},
   "outputs": [],
   "source": []
  }
 ],
 "metadata": {
  "kernelspec": {
   "display_name": "Python 3 (ipykernel)",
   "language": "python",
   "name": "python3"
  },
  "language_info": {
   "codemirror_mode": {
    "name": "ipython",
    "version": 3
   },
   "file_extension": ".py",
   "mimetype": "text/x-python",
   "name": "python",
   "nbconvert_exporter": "python",
   "pygments_lexer": "ipython3",
   "version": "3.12.4"
  }
 },
 "nbformat": 4,
 "nbformat_minor": 5
}
