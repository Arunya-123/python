{
 "cells": [
  {
   "cell_type": "markdown",
   "id": "ef10a0eb-d996-4178-95ba-5d62c9b455a4",
   "metadata": {},
   "source": [
    "Python has a built-in os module with methods for interacting with the operating system,\n",
    "like creating files and directories, management of files and directories, input, output, \n",
    "environment variables, process management, etc."
   ]
  },
  {
   "cell_type": "code",
   "execution_count": 5,
   "id": "8fd87cda-551e-46e2-8850-5b0faa3f9af9",
   "metadata": {},
   "outputs": [],
   "source": [
    "import os\n",
    "os.mkdir(\"Geometry\") #creating a directory using os module"
   ]
  },
  {
   "cell_type": "code",
   "execution_count": 6,
   "id": "630da2ac-fd38-4f27-8f57-8fdf75c5f8c6",
   "metadata": {},
   "outputs": [],
   "source": [
    "#defining a area calculating module,where two functions to find area of rectancle and circle\n",
    "import math\n",
    "def rectangle(l,b):\n",
    "    return l*b\n"
   ]
  },
  {
   "cell_type": "code",
   "execution_count": 7,
   "id": "24563619-e23b-4c04-9669-70e28c6586b4",
   "metadata": {},
   "outputs": [],
   "source": [
    "def circle(r):\n",
    "    return math*pow(r,2)"
   ]
  },
  {
   "cell_type": "code",
   "execution_count": 10,
   "id": "e581d3c8-78ee-46c8-b9d7-e05d9e995272",
   "metadata": {},
   "outputs": [],
   "source": [
    "from Geometry import area # Geometry module importing are module\n",
    "#or\n",
    "import Geometry.area"
   ]
  },
  {
   "cell_type": "code",
   "execution_count": 11,
   "id": "0cbf48ac-2fdb-481b-b4c8-2a894e659482",
   "metadata": {},
   "outputs": [
    {
     "name": "stdout",
     "output_type": "stream",
     "text": [
      "24\n"
     ]
    }
   ],
   "source": [
    "print(area.rectangle(3,8))\n",
    "#print(area.name(\"anu\"))"
   ]
  },
  {
   "cell_type": "code",
   "execution_count": 12,
   "id": "9b87fbc8-9dbc-437e-9da6-4b8e4f159281",
   "metadata": {},
   "outputs": [
    {
     "name": "stdout",
     "output_type": "stream",
     "text": [
      "113.04\n"
     ]
    }
   ],
   "source": [
    "p=area.circle(6)\n",
    "print(p)"
   ]
  },
  {
   "cell_type": "code",
   "execution_count": null,
   "id": "61143f3c-ac61-4fc8-81e6-d963cff39bf5",
   "metadata": {},
   "outputs": [],
   "source": []
  }
 ],
 "metadata": {
  "kernelspec": {
   "display_name": "Python 3 (ipykernel)",
   "language": "python",
   "name": "python3"
  },
  "language_info": {
   "codemirror_mode": {
    "name": "ipython",
    "version": 3
   },
   "file_extension": ".py",
   "mimetype": "text/x-python",
   "name": "python",
   "nbconvert_exporter": "python",
   "pygments_lexer": "ipython3",
   "version": "3.12.4"
  }
 },
 "nbformat": 4,
 "nbformat_minor": 5
}
